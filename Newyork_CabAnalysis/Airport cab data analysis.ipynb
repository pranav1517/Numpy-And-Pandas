{
 "cells": [
  {
   "cell_type": "code",
   "execution_count": 1,
   "id": "b6247312",
   "metadata": {},
   "outputs": [],
   "source": [
    "import numpy as np"
   ]
  },
  {
   "cell_type": "code",
   "execution_count": 3,
   "id": "ad6d9dc2",
   "metadata": {},
   "outputs": [],
   "source": [
    "taxi = np.genfromtxt('nyc_taxis.csv', delimiter = ',', skip_header = True)\n",
    "#import data with delimier ',' and skipping all headers"
   ]
  },
  {
   "cell_type": "code",
   "execution_count": 9,
   "id": "6a125e7e",
   "metadata": {},
   "outputs": [],
   "source": [
    "speed = taxi[:,7] / (taxi[:,8]/3600)\n",
    "#count taxi speed "
   ]
  },
  {
   "cell_type": "code",
   "execution_count": 10,
   "id": "83e29c1d",
   "metadata": {},
   "outputs": [
    {
     "name": "stdout",
     "output_type": "stream",
     "text": [
      "32.24258580925573\n"
     ]
    }
   ],
   "source": [
    "mean_speed = speed.mean()\n",
    "print(mean_speed)\n",
    "\n",
    "#Mean speed of all rides"
   ]
  },
  {
   "cell_type": "code",
   "execution_count": 17,
   "id": "b93dc80f",
   "metadata": {},
   "outputs": [
    {
     "name": "stdout",
     "output_type": "stream",
     "text": [
      "13333\n"
     ]
    }
   ],
   "source": [
    "rides_feb = taxi[taxi[:,1] == 2, 1]\n",
    "print(rides_feb.shape[0])\n",
    "\n",
    "#number of rides taken in month of fabruary"
   ]
  },
  {
   "cell_type": "code",
   "execution_count": 14,
   "id": "150af915",
   "metadata": {},
   "outputs": [
    {
     "name": "stdout",
     "output_type": "stream",
     "text": [
      "16\n"
     ]
    }
   ],
   "source": [
    "total_tip = taxi[taxi[:,12] > 50]\n",
    "print(total_tip.shape[0])\n",
    "\n",
    "#number of rides where tip amount is greater than 50"
   ]
  },
  {
   "cell_type": "code",
   "execution_count": 16,
   "id": "b0b520a3",
   "metadata": {},
   "outputs": [
    {
     "name": "stdout",
     "output_type": "stream",
     "text": [
      "11832\n"
     ]
    }
   ],
   "source": [
    "drop_jfk = taxi[taxi[:,6] == 2]\n",
    "print(drop_jfk.shape[0])\n",
    "\n",
    "#number of rides where drop location is JFK airport,here drop_location is sighned as 2"
   ]
  }
 ],
 "metadata": {
  "kernelspec": {
   "display_name": "Python 3 (ipykernel)",
   "language": "python",
   "name": "python3"
  },
  "language_info": {
   "codemirror_mode": {
    "name": "ipython",
    "version": 3
   },
   "file_extension": ".py",
   "mimetype": "text/x-python",
   "name": "python",
   "nbconvert_exporter": "python",
   "pygments_lexer": "ipython3",
   "version": "3.9.15"
  }
 },
 "nbformat": 4,
 "nbformat_minor": 5
}
